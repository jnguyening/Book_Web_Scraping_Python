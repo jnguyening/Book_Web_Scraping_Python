{
 "cells": [
  {
   "cell_type": "code",
   "execution_count": null,
   "id": "6e518776",
   "metadata": {},
   "outputs": [],
   "source": [
    "#import libraries\n",
    "import requests\n",
    "from bs4 import BeautifulSoup\n",
    "import csv\n",
    "import pandas as pd\n",
    "import time "
   ]
  },
  {
   "cell_type": "code",
   "execution_count": null,
   "id": "8e5f6dab",
   "metadata": {},
   "outputs": [],
   "source": [
    "#get URL and send GET request\n",
    "url = \"https://books.toscrape.com/\"\n",
    "response = requests.get(url)\n",
    "if response.status_code == 200:\n",
    "    print(\"request successful\")\n",
    "else:\n",
    "    print(\"request failed\")"
   ]
  },
  {
   "cell_type": "code",
   "execution_count": null,
   "id": "c608a24d",
   "metadata": {},
   "outputs": [],
   "source": [
    "#parse the HTML content\n",
    "soup = BeautifulSoup(response.text, \"html.parser\")\n",
    "print(soup)"
   ]
  },
  {
   "cell_type": "code",
   "execution_count": null,
   "id": "f44a5245",
   "metadata": {},
   "outputs": [],
   "source": [
    "#extract book details for page 1\n",
    "#find all the book titles and ther links\n",
    "books = soup.find_all('h3')\n",
    "\n",
    "start_time = time.time()\n",
    "books_extracted = 0\n",
    "\n",
    "#iterate through the books and extract the information for each book\n",
    "for book in books:\n",
    "    book_url = book.find('a')['href']\n",
    "    book_response = requests.get(url + book_url)\n",
    "    book_soup = BeautifulSoup(book_response.content, \"html.parser\")\n",
    "    \n",
    "    title = book_soup.find('h1').text\n",
    "    category = book_soup.find('ul', class_=\"breadcrumb\").find_all('a')[2].text.strip()\n",
    "    rating = book_soup.find('p', class_='star-rating')['class'][1]\n",
    "    price = book_soup.find('p', class_='price_color').text.strip()\n",
    "    availability = book_soup.find('p', class_='availability').text.strip()\n",
    "    \n",
    "    books_extracted += 1\n",
    "    \n",
    "    end_time = time.time()\n",
    "    total_time = (end_time-start_time)/60.00\n",
    "    \n",
    "    print(f'Title: {title}')\n",
    "    print(f'Category: {category}')\n",
    "    print(f'Rating: {rating}')\n",
    "    print(f'Price: {price}')\n",
    "    print(f'Availability: {availability}')\n",
    "    print('*******')"
   ]
  },
  {
   "cell_type": "code",
   "execution_count": null,
   "id": "55276db0",
   "metadata": {},
   "outputs": [],
   "source": [
    "#extract details for all 50 pages\n",
    "#create a list to hold all the book informaion\n",
    "books_data = []\n",
    "\n",
    "#loop trough all 50 pages\n",
    "for page_num in range(1,51):\n",
    "    url = f'https://books.toscrape.com/catalogue/page-{page_num}.html'\n",
    "    response = requests.get(url)\n",
    "    soup = BeautifulSoup(response.content, 'html.parser')\n",
    "    \n",
    "    books = soup.find_all('h3')\n",
    "\n",
    "    start_time = time.time()\n",
    "    books_extracted = 0\n",
    "\n",
    "    for book in books:\n",
    "        book_url = book.find('a')['href']\n",
    "        book_response = requests.get('https://books.toscrape.com/catalogue/' + book_url)\n",
    "        book_soup = BeautifulSoup(book_response.content, \"html.parser\")\n",
    "\n",
    "        title = book_soup.find('h1').text\n",
    "        category = book_soup.find('ul', class_=\"breadcrumb\").find_all('a')[2].text.strip()\n",
    "        rating = book_soup.find('p', class_='star-rating')['class'][1]\n",
    "        price = book_soup.find('p', class_='price_color').text.strip()\n",
    "        availability = book_soup.find('p', class_='availability').text.strip()\n",
    "\n",
    "        end_time = time.time()\n",
    "        total_time = (end_time-start_time)/60.00\n",
    "        \n",
    "        books_data.append([title, category, rating, price, availability])\n",
    "        print(books_data)\n",
    "        print('*******')\n",
    "        print(f'{page_num * len(books)} books extracted so far...')\n",
    "\n",
    "\n",
    "#add extracted info to the list"
   ]
  },
  {
   "cell_type": "code",
   "execution_count": null,
   "id": "aed070e0",
   "metadata": {},
   "outputs": [],
   "source": [
    "#export the data\n",
    "#convert list to dataframe\n",
    "df = pd.DataFrame(books_data, columns=[\"Title\", \"Category\", \"Rating\", \"Price\", \"Availability\"])\n",
    "print(df.head(10))"
   ]
  },
  {
   "cell_type": "code",
   "execution_count": null,
   "id": "f757423f",
   "metadata": {},
   "outputs": [],
   "source": [
    "#save to csv\n",
    "df.to_csv(\"books_scraped.csv\", index=False)\n",
    "print(\"Data saved to books_scraped.csv\")"
   ]
  },
  {
   "cell_type": "code",
   "execution_count": null,
   "id": "587a77a5",
   "metadata": {},
   "outputs": [],
   "source": []
  }
 ],
 "metadata": {
  "kernelspec": {
   "display_name": "Python 3 (ipykernel)",
   "language": "python",
   "name": "python3"
  },
  "language_info": {
   "codemirror_mode": {
    "name": "ipython",
    "version": 3
   },
   "file_extension": ".py",
   "mimetype": "text/x-python",
   "name": "python",
   "nbconvert_exporter": "python",
   "pygments_lexer": "ipython3",
   "version": "3.9.12"
  }
 },
 "nbformat": 4,
 "nbformat_minor": 5
}
